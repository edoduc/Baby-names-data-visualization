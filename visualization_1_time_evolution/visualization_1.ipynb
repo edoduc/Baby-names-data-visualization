{
 "cells": [
  {
   "cell_type": "markdown",
   "metadata": {},
   "source": [
    "# THEME 1 : NAMES OVER TIME"
   ]
  },
  {
   "cell_type": "code",
   "execution_count": 1,
   "metadata": {},
   "outputs": [],
   "source": [
    "import altair as alt\n",
    "import pandas as pd\n",
    "import numpy as np\n",
    "from itertools import product\n",
    "import ipywidgets as widgets\n",
    "from IPython.display import display, clear_output\n",
    "import geopandas as gpd  # Requires geopandas -- e.g.: conda install -c conda-forge geopandas\n",
    "\n",
    "alt.data_transformers.enable(\"json\")  # Let Altair/Vega-Lite work with large data sets\n",
    "\n",
    "pass"
   ]
  },
  {
   "cell_type": "code",
   "execution_count": 2,
   "metadata": {},
   "outputs": [],
   "source": [
    "names = pd.read_csv(\"../data/dpt2020.csv\", sep=\";\")\n",
    "\n",
    "# clean XXXX in annais\n",
    "names = names[names.annais != \"XXXX\"]\n",
    "# clean XX in dpt\n",
    "names = names[names.dpt != \"XX\"]"
   ]
  },
  {
   "cell_type": "code",
   "execution_count": 3,
   "metadata": {},
   "outputs": [
    {
     "data": {
      "text/html": [
       "<div>\n",
       "<style scoped>\n",
       "    .dataframe tbody tr th:only-of-type {\n",
       "        vertical-align: middle;\n",
       "    }\n",
       "\n",
       "    .dataframe tbody tr th {\n",
       "        vertical-align: top;\n",
       "    }\n",
       "\n",
       "    .dataframe thead th {\n",
       "        text-align: right;\n",
       "    }\n",
       "</style>\n",
       "<table border=\"1\" class=\"dataframe\">\n",
       "  <thead>\n",
       "    <tr style=\"text-align: right;\">\n",
       "      <th></th>\n",
       "      <th>sexe</th>\n",
       "      <th>preusuel</th>\n",
       "      <th>annais</th>\n",
       "      <th>dpt</th>\n",
       "      <th>nombre</th>\n",
       "    </tr>\n",
       "  </thead>\n",
       "  <tbody>\n",
       "    <tr>\n",
       "      <th>1047685</th>\n",
       "      <td>1</td>\n",
       "      <td>LUCAY</td>\n",
       "      <td>1954</td>\n",
       "      <td>974</td>\n",
       "      <td>18</td>\n",
       "    </tr>\n",
       "    <tr>\n",
       "      <th>1572735</th>\n",
       "      <td>1</td>\n",
       "      <td>THEOPHILE</td>\n",
       "      <td>1964</td>\n",
       "      <td>67</td>\n",
       "      <td>3</td>\n",
       "    </tr>\n",
       "    <tr>\n",
       "      <th>1669726</th>\n",
       "      <td>1</td>\n",
       "      <td>XAVIER</td>\n",
       "      <td>1977</td>\n",
       "      <td>85</td>\n",
       "      <td>21</td>\n",
       "    </tr>\n",
       "    <tr>\n",
       "      <th>678743</th>\n",
       "      <td>1</td>\n",
       "      <td>GWENDAL</td>\n",
       "      <td>1997</td>\n",
       "      <td>56</td>\n",
       "      <td>26</td>\n",
       "    </tr>\n",
       "    <tr>\n",
       "      <th>1736709</th>\n",
       "      <td>2</td>\n",
       "      <td>_PRENOMS_RARES</td>\n",
       "      <td>1975</td>\n",
       "      <td>93</td>\n",
       "      <td>199</td>\n",
       "    </tr>\n",
       "  </tbody>\n",
       "</table>\n",
       "</div>"
      ],
      "text/plain": [
       "         sexe        preusuel annais  dpt  nombre\n",
       "1047685     1           LUCAY   1954  974      18\n",
       "1572735     1       THEOPHILE   1964   67       3\n",
       "1669726     1          XAVIER   1977   85      21\n",
       "678743      1         GWENDAL   1997   56      26\n",
       "1736709     2  _PRENOMS_RARES   1975   93     199"
      ]
     },
     "execution_count": 3,
     "metadata": {},
     "output_type": "execute_result"
    }
   ],
   "source": [
    "names.sample(5)"
   ]
  },
  {
   "cell_type": "code",
   "execution_count": 4,
   "metadata": {},
   "outputs": [],
   "source": [
    "group_names = names.groupby([\"preusuel\", \"annais\"]).nombre.sum().reset_index()"
   ]
  },
  {
   "cell_type": "code",
   "execution_count": 5,
   "metadata": {},
   "outputs": [
    {
     "data": {
      "text/plain": [
       "('1900', '2020')"
      ]
     },
     "execution_count": 5,
     "metadata": {},
     "output_type": "execute_result"
    }
   ],
   "source": [
    "min_year = group_names.annais.min()\n",
    "max_year = group_names.annais.max()\n",
    "\n",
    "min_year, max_year"
   ]
  },
  {
   "cell_type": "code",
   "execution_count": 6,
   "metadata": {},
   "outputs": [],
   "source": [
    "names = group_names[\"preusuel\"].unique()\n",
    "\n",
    "births_per_year = {}\n",
    "for name in names:\n",
    "    births = group_names[group_names[\"preusuel\"] == name]\n",
    "    births = births[[\"annais\", \"nombre\"]].sort_values(\"annais\")\n",
    "\n",
    "    # sort from min to max\n",
    "    births_per_year[name] = [\n",
    "        (int(year), int(birth))\n",
    "        for year, birth in zip(births[\"annais\"], births[\"nombre\"])\n",
    "    ]"
   ]
  },
  {
   "cell_type": "code",
   "execution_count": 7,
   "metadata": {},
   "outputs": [],
   "source": [
    "scale = [y for y in range(int(min_year), int(max_year) + 1)]"
   ]
  },
  {
   "cell_type": "code",
   "execution_count": 8,
   "metadata": {},
   "outputs": [],
   "source": [
    "for name, data in births_per_year.items():\n",
    "    years = [y for y, _ in data]\n",
    "    for year in scale:\n",
    "        if year not in years:\n",
    "            data.append((year, 0))\n",
    "    data.sort(key=lambda x: x[0])\n",
    "\n",
    "df_data = pd.DataFrame(births_per_year)"
   ]
  },
  {
   "cell_type": "code",
   "execution_count": 9,
   "metadata": {},
   "outputs": [],
   "source": [
    "import pandas as pd\n",
    "import altair as alt\n",
    "\n",
    "# Example DataFrame creation\n",
    "data = {\n",
    "    \"names\": df_data.columns.tolist(),\n",
    "    \"data\": [df_data[name].tolist() for name in df_data.columns.tolist()],\n",
    "}\n",
    "\n",
    "df = pd.DataFrame(data)\n",
    "\n",
    "# Expand the tuples into separate rows\n",
    "expanded_rows = []\n",
    "for name in df[\"names\"]:\n",
    "    for year, births in df[df[\"names\"] == name][\"data\"].values[0]:\n",
    "        expanded_rows.append({\"name\": name, \"year\": year, \"births\": births})\n",
    "\n",
    "expanded_df = pd.DataFrame(expanded_rows)"
   ]
  },
  {
   "cell_type": "code",
   "execution_count": 10,
   "metadata": {},
   "outputs": [],
   "source": [
    "import altair as alt\n",
    "import pandas as pd\n",
    "import ipywidgets as widgets\n",
    "from IPython.display import display, clear_output\n",
    "\n",
    "\n",
    "# Define initial selection\n",
    "initial_name = \"ANDRÉ\"\n",
    "view_df = expanded_df[expanded_df[\"name\"] == initial_name]"
   ]
  },
  {
   "cell_type": "code",
   "execution_count": 11,
   "metadata": {},
   "outputs": [],
   "source": [
    "years = list((range(expanded_df[\"year\"].min(), expanded_df[\"year\"].max() + 1)))"
   ]
  },
  {
   "cell_type": "code",
   "execution_count": 12,
   "metadata": {},
   "outputs": [
    {
     "data": {
      "text/html": [
       "<div>\n",
       "<style scoped>\n",
       "    .dataframe tbody tr th:only-of-type {\n",
       "        vertical-align: middle;\n",
       "    }\n",
       "\n",
       "    .dataframe tbody tr th {\n",
       "        vertical-align: top;\n",
       "    }\n",
       "\n",
       "    .dataframe thead th {\n",
       "        text-align: right;\n",
       "    }\n",
       "</style>\n",
       "<table border=\"1\" class=\"dataframe\">\n",
       "  <thead>\n",
       "    <tr style=\"text-align: right;\">\n",
       "      <th></th>\n",
       "      <th>name</th>\n",
       "      <th>year</th>\n",
       "      <th>births</th>\n",
       "    </tr>\n",
       "  </thead>\n",
       "  <tbody>\n",
       "    <tr>\n",
       "      <th>1493173</th>\n",
       "      <td>ROSALINA</td>\n",
       "      <td>1933</td>\n",
       "      <td>0</td>\n",
       "    </tr>\n",
       "    <tr>\n",
       "      <th>275338</th>\n",
       "      <td>CASILDA</td>\n",
       "      <td>1963</td>\n",
       "      <td>0</td>\n",
       "    </tr>\n",
       "    <tr>\n",
       "      <th>1126525</th>\n",
       "      <td>MARIE-LINDA</td>\n",
       "      <td>1915</td>\n",
       "      <td>0</td>\n",
       "    </tr>\n",
       "    <tr>\n",
       "      <th>1719885</th>\n",
       "      <td>TRESSIE</td>\n",
       "      <td>2012</td>\n",
       "      <td>0</td>\n",
       "    </tr>\n",
       "    <tr>\n",
       "      <th>1091396</th>\n",
       "      <td>MAOULIDA</td>\n",
       "      <td>1997</td>\n",
       "      <td>0</td>\n",
       "    </tr>\n",
       "  </tbody>\n",
       "</table>\n",
       "</div>"
      ],
      "text/plain": [
       "                name  year  births\n",
       "1493173     ROSALINA  1933       0\n",
       "275338       CASILDA  1963       0\n",
       "1126525  MARIE-LINDA  1915       0\n",
       "1719885      TRESSIE  2012       0\n",
       "1091396     MAOULIDA  1997       0"
      ]
     },
     "execution_count": 12,
     "metadata": {},
     "output_type": "execute_result"
    }
   ],
   "source": [
    "expanded_df.sample(5)"
   ]
  },
  {
   "cell_type": "code",
   "execution_count": 14,
   "metadata": {},
   "outputs": [
    {
     "data": {
      "application/vnd.jupyter.widget-view+json": {
       "model_id": "e779bb9209b64d6b850020451cfdf331",
       "version_major": 2,
       "version_minor": 0
      },
      "text/plain": [
       "VBox(children=(HBox(children=(Combobox(value='', description='Search:', ensure_option=True, options=('AADIL', …"
      ]
     },
     "metadata": {},
     "output_type": "display_data"
    },
    {
     "data": {
      "application/vnd.jupyter.widget-view+json": {
       "model_id": "5406d2fc63f044119ec049ac589b3df5",
       "version_major": 2,
       "version_minor": 0
      },
      "text/plain": [
       "Output()"
      ]
     },
     "metadata": {},
     "output_type": "display_data"
    }
   ],
   "source": [
    "# Create the search box with suggestions using ipywidgets.Combobox\n",
    "search_box = widgets.Combobox(\n",
    "    placeholder=\"Type a name\",\n",
    "    options=list(expanded_df[\"name\"].unique()),\n",
    "    description=\"Search:\",\n",
    "    ensure_option=True,\n",
    "    disabled=False,\n",
    ")\n",
    "\n",
    "slider = widgets.IntRangeSlider(\n",
    "    value=[expanded_df[\"year\"].min(), expanded_df[\"year\"].max()],\n",
    "    min=expanded_df[\"year\"].min(),\n",
    "    max=expanded_df[\"year\"].max(),\n",
    "    step=1,\n",
    "    description=\"Period:\",\n",
    "    continuous_update=False,\n",
    "    layout=widgets.Layout(width=\"63%\"),  # Extended width\n",
    ")\n",
    "slider.style.handle_color = \"blue\"  # Set handle color to black\n",
    "\n",
    "# Create submit and clear buttons\n",
    "submit_button = widgets.Button(description=\"Submit\")\n",
    "clear_button = widgets.Button(description=\"Clear\")\n",
    "all_names_button = widgets.Button(description=\"Add random Names\")\n",
    "# Display the initial chart\n",
    "output = widgets.Output()\n",
    "\n",
    "\n",
    "def on_all_names(change):\n",
    "    global view_df\n",
    "    sampled_names = expanded_df[\"name\"].drop_duplicates().sample(25)\n",
    "    view_df = expanded_df[expanded_df[\"name\"].isin(sampled_names)]\n",
    "    min_year = slider.value[0]\n",
    "    max_year = slider.value[1]\n",
    "    with output:\n",
    "        clear_output(wait=True)\n",
    "        chart = update_chart(None, min_year, max_year)\n",
    "        display(chart)\n",
    "\n",
    "\n",
    "def get_filtered_years(min_year, max_year, step=5):\n",
    "    return list(range(min_year, max_year + 1, step))\n",
    "\n",
    "\n",
    "def group_years(year, period=5):\n",
    "    return year - (year % period)\n",
    "\n",
    "\n",
    "def update_chart(selected_name, min_year, max_year):\n",
    "    global view_df\n",
    "    new_selection = expanded_df[expanded_df[\"name\"] == selected_name]\n",
    "    view_df = (\n",
    "        pd.concat([view_df, new_selection]).drop_duplicates().reset_index(drop=True)\n",
    "    )\n",
    "\n",
    "    # Get the filtered years\n",
    "    filtered_years = get_filtered_years(min_year, max_year)\n",
    "\n",
    "    # Filter data to include only years within the specified range and in the filtered years list\n",
    "    filtered_df = view_df[\n",
    "        (view_df[\"year\"] >= min_year)\n",
    "        & (view_df[\"year\"] <= max_year)\n",
    "        & (view_df[\"year\"].isin(filtered_years))\n",
    "    ]\n",
    "\n",
    "    # Highlight selection for hover interaction\n",
    "    highlight = alt.selection_point(on=\"pointerover\", fields=[\"name\"], nearest=True)\n",
    "\n",
    "    # Calculate the dynamic height based on the number of years displayed\n",
    "    chart_height = 15 * len(filtered_years)  # Increased multiplier for better spacing\n",
    "\n",
    "    # Create the base chart with filtered_df\n",
    "    base = (\n",
    "        alt.Chart(filtered_df)\n",
    "        .encode(\n",
    "            x=alt.X(\n",
    "                \"year:O\",\n",
    "                title=\"Year\",\n",
    "                axis=alt.Axis(labelAngle=0, labelFontSize=8),\n",
    "                scale=alt.Scale(domain=filtered_years),\n",
    "            ),\n",
    "            y=\"births:Q\",\n",
    "            color=\"name:N\",\n",
    "            tooltip=[\"name\", \"year\", \"births\"],\n",
    "        )\n",
    "        .properties(\n",
    "            width=600,\n",
    "            height=400,\n",
    "            title=\"Births by Year\",\n",
    "        )\n",
    "    )\n",
    "\n",
    "    # Define points with highlight interaction and tooltips\n",
    "    points = (\n",
    "        base.mark_circle(size=100).encode(opacity=alt.value(0)).add_params(highlight)\n",
    "    )\n",
    "\n",
    "    # Define lines with conditional size based on highlight\n",
    "    lines = base.mark_line().encode(\n",
    "        size=alt.condition(~highlight, alt.value(1), alt.value(3))\n",
    "    )\n",
    "\n",
    "    # Merge the points and lines\n",
    "    chart = points + lines\n",
    "\n",
    "    return chart\n",
    "\n",
    "\n",
    "def on_submit(change):\n",
    "    with output:\n",
    "        clear_output(wait=True)\n",
    "        search_query = search_box.value.strip().upper()\n",
    "        min_year = slider.value[0]\n",
    "        max_year = slider.value[1]\n",
    "        if search_query in expanded_df[\"name\"].unique():\n",
    "            chart = update_chart(search_query, min_year, max_year)\n",
    "            display(chart)\n",
    "        else:\n",
    "            print(f\"No data found for {search_query}\")\n",
    "\n",
    "\n",
    "def on_clear(change):\n",
    "    global view_df\n",
    "    view_df = pd.DataFrame(columns=expanded_df.columns)\n",
    "    slider.value = [slider.min, slider.max]\n",
    "    with output:\n",
    "        clear_output(wait=True)\n",
    "        print(\"Graph cleared\")\n",
    "\n",
    "\n",
    "def on_slider_change(change):\n",
    "    with output:\n",
    "        clear_output(wait=True)\n",
    "        min_year = slider.value[0]\n",
    "        max_year = slider.value[1]\n",
    "        if not search_box.value:\n",
    "            display(\"Please select a name.\")\n",
    "        else:\n",
    "            chart = update_chart(search_box.value.strip().upper(), min_year, max_year)\n",
    "            display(chart)\n",
    "\n",
    "\n",
    "# Attach the event handlers to the buttons\n",
    "submit_button.on_click(on_submit)\n",
    "clear_button.on_click(on_clear)\n",
    "all_names_button.on_click(on_all_names)\n",
    "slider.observe(on_slider_change, names=\"value\")  # Attach the slider event\n",
    "\n",
    "# Display the search box, slider, submit button, clear button, and output\n",
    "display(\n",
    "    widgets.VBox(\n",
    "        [\n",
    "            widgets.HBox([search_box, submit_button, clear_button, all_names_button]),\n",
    "            slider,\n",
    "        ]\n",
    "    )\n",
    ")\n",
    "display(output)\n",
    "\n",
    "# Show the initial chart with all years\n",
    "with output:\n",
    "    display(update_chart(initial_name, slider.min, slider.max))"
   ]
  }
 ],
 "metadata": {
  "kernelspec": {
   "display_name": "vizu_venv",
   "language": "python",
   "name": "python3"
  },
  "language_info": {
   "codemirror_mode": {
    "name": "ipython",
    "version": 3
   },
   "file_extension": ".py",
   "mimetype": "text/x-python",
   "name": "python",
   "nbconvert_exporter": "python",
   "pygments_lexer": "ipython3",
   "version": "3.8.19"
  }
 },
 "nbformat": 4,
 "nbformat_minor": 2
}
